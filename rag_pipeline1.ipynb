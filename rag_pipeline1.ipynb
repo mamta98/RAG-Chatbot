{
 "cells": [
  {
   "cell_type": "code",
   "execution_count": 95,
   "id": "37781d8d-e851-41aa-9df2-6ca9518dc34c",
   "metadata": {},
   "outputs": [],
   "source": [
    "import os\n",
    "import openai\n",
    "import faiss\n",
    "import pdfminer\n",
    "from pdfminer.high_level import extract_text\n",
    "from langchain.embeddings import OpenAIEmbeddings \n",
    "from langchain.chat_models import ChatOpenAI\n",
    "from langchain.text_splitter import RecursiveCharacterTextSplitter\n",
    "from langchain.vectorstores import FAISS"
   ]
  },
  {
   "cell_type": "code",
   "execution_count": null,
   "id": "a0132b94-05b5-41d0-a5e5-2fac8f2b37ef",
   "metadata": {},
   "outputs": [],
   "source": []
  },
  {
   "cell_type": "markdown",
   "id": "d9282ba1-1f42-413e-ae6e-afe0c1a463aa",
   "metadata": {},
   "source": [
    "# Outline\n",
    "1. Extract text from all pdf files and store list of strings\n",
    "2. Merge all strings in the documents list and then create chunks\n",
    "3. "
   ]
  },
  {
   "cell_type": "code",
   "execution_count": 2,
   "id": "f83656c4-820b-453c-8a03-477bba14690d",
   "metadata": {},
   "outputs": [],
   "source": [
    "os.environ['OPENAI_API_KEY'] = 'enter_api_key'"
   ]
  },
  {
   "cell_type": "code",
   "execution_count": 33,
   "id": "976a5cae-f04f-4b34-a156-7bc041340cf6",
   "metadata": {},
   "outputs": [],
   "source": [
    "folder_path = \"/Users/mamtaudai/Downloads\"\n"
   ]
  },
  {
   "cell_type": "code",
   "execution_count": 34,
   "id": "1b663ca3-c00a-426f-8b53-3596cc59206f",
   "metadata": {},
   "outputs": [],
   "source": [
    "documents = []"
   ]
  },
  {
   "cell_type": "code",
   "execution_count": 54,
   "id": "ad5ade16-923a-4bc1-b629-6b6f5884a98e",
   "metadata": {},
   "outputs": [
    {
     "name": "stdout",
     "output_type": "stream",
     "text": [
      "['.DS_Store', '.localized', 'MamtaUdai_IITK_CV.pdf', 'AI Engineer - Asociate - Intern.docx', 'SQL-Assignment (1).pdf', 'photo2.jpeg', 'Assistant Data Scientist.docx', 'Senior Data Scientist.docx', 'sample.txt', 'profile_pic.jpeg']\n"
     ]
    }
   ],
   "source": [
    "files = os.listdir(folder_path)\n",
    "# gets all filenames inside folder_path.\n",
    "print(files)"
   ]
  },
  {
   "cell_type": "code",
   "execution_count": 101,
   "id": "4763eedb-01dc-4e76-85b4-44098b9ef661",
   "metadata": {},
   "outputs": [
    {
     "name": "stdout",
     "output_type": "stream",
     "text": [
      "Processing file: /Users/mamtaudai/Downloads/MamtaUdai_IITK_CV.pdf\n",
      "Processing file: /Users/mamtaudai/Downloads/SQL-Assignment (1).pdf\n"
     ]
    }
   ],
   "source": [
    "for file in files:\n",
    "    if file.endswith('.pdf'):\n",
    "        file_path = os.path.join(folder_path, file)\n",
    "        print(f\"Processing file: {file_path}\")  \n",
    "        text = extract_text(file_path)\n",
    "        documents.append(text)"
   ]
  },
  {
   "cell_type": "code",
   "execution_count": 102,
   "id": "11d73b09-21e0-4298-abb5-03dc5c408302",
   "metadata": {},
   "outputs": [
    {
     "data": {
      "text/plain": [
       "list"
      ]
     },
     "execution_count": 102,
     "metadata": {},
     "output_type": "execute_result"
    }
   ],
   "source": [
    "type(documents)"
   ]
  },
  {
   "cell_type": "code",
   "execution_count": 103,
   "id": "701a0a06-9003-422c-aa23-f4b92110fa2b",
   "metadata": {},
   "outputs": [
    {
     "data": {
      "text/plain": [
       "11"
      ]
     },
     "execution_count": 103,
     "metadata": {},
     "output_type": "execute_result"
    }
   ],
   "source": [
    "len(documents)"
   ]
  },
  {
   "cell_type": "code",
   "execution_count": 104,
   "id": "fda4b8a9-1f57-45a7-8558-75f3f3cee742",
   "metadata": {},
   "outputs": [
    {
     "data": {
      "text/plain": [
       "str"
      ]
     },
     "execution_count": 104,
     "metadata": {},
     "output_type": "execute_result"
    }
   ],
   "source": [
    "type(documents[0])"
   ]
  },
  {
   "cell_type": "code",
   "execution_count": 55,
   "id": "a418700b-ca43-451f-b572-a07b684a5374",
   "metadata": {},
   "outputs": [
    {
     "name": "stdout",
     "output_type": "stream",
     "text": [
      "<langchain_text_splitters.character.RecursiveCharacterTextSplitter object at 0x1220016f0>\n"
     ]
    }
   ],
   "source": [
    "splitter = RecursiveCharacterTextSplitter(chunk_size=500, chunk_overlap=100)\n",
    "# define each chunk will have 500 characters\n",
    "print(splitter)\n"
   ]
  },
  {
   "cell_type": "code",
   "execution_count": 56,
   "id": "2d5df65e-dedf-4556-9135-6caf58adaaf9",
   "metadata": {
    "scrolled": true
   },
   "outputs": [
    {
     "name": "stdout",
     "output_type": "stream",
     "text": [
      "['MAMTA UDAI \\n\\n+91-9782991795  \\nmamtaudai98@gmail.com \\n\\nEDUCATION \\n\\n▪  IIT Kanpur, Bachelor of Science (BS) in Mathematics and Scientific Computing, 2023   \\n\\nEXPERIENCE \\n\\nFreelance Math AI Trainer    \\nOutlier.ai| Oct 2024 - Present', '▪  Developed and tested over 500 high-quality prompts for AI models, focusing on math-related queries (geometry, \\n\\nalgebra, and statistics), achieving 95% alignment with quality benchmarks. \\n\\n▪  Reviewed and evaluated AI model to ensure accuracy, consistency, and quality in handling math-related queries. \\n▪  Designed and implemented a structured evaluation process, improving assessment efficiency and reliability by 20%.', 'PROJECTS \\nCredit Card Fraud Detection                                                                                                                             \\n▪  Executed comprehensive data pre-processing including Exploratory Data Analysis (EDA), Feature \\n\\nEngineering and Anomaly Detection to prepare data for training', 'Engineering and Anomaly Detection to prepare data for training \\n\\n▪  Explored models like Logistic Regression, Decision Tree, Random Forest for training iterations \\n▪  Used F1-score to measure performance of the model achieved with best score of 82% on test data', 'NFT Sales Data Analysis                                                                                                                                      \\n▪  Extracted valuable insights from Non-Fungible Token (NFT) sales data using SQL queries to uncover trends & \\n\\npatterns for investors, collectors interested in NFTs', 'patterns for investors, collectors interested in NFTs \\n\\n▪  Generated aggregated view of the NFT Market by grouping NFT name and calculated avg. price for each group \\n▪  Identified highest-value transactions & price trends over time; visualized price distribution using histogram \\n▪  Created Temporary tables to hold daily average price for each transaction and to filter out certain transactions \\n\\n Superstore Sale Performance', 'Superstore Sale Performance  \\n\\n▪  Developed comprehensive dashboard story in Tableau showcasing sales performance metrics for a retail \\n\\nsuperstore  \\n\\n▪  Utilized Calculated Fields, Parameters, and Filters for in-depth sales analysis \\n▪  Created visualizations such as Pie charts, Bubble charts, Bar charts, and Histograms to analyze data \\n\\ndistribution \\n\\n▪  Conducted correlation analysis and visualized results using Heatmap to identify key patterns and insights \\n\\nLANGUAGES AND SKILLS', 'LANGUAGES AND SKILLS \\n\\n▪  C, Python, MATLAB, MySQL, NoSQL \\n▪  MS-Excel, Power BI, Tableau \\n\\nCERTIFICATIONS   \\n\\n▪  Machine Learning Specialization from Coursera \\n▪  Data Science Bootcamp from UpGrad \\n\\n \\n \\n \\n \\n \\n \\n\\x0c\\n\\nMAMTA UDAI \\n\\n+91-9782991795  \\nmamtaudai98@gmail.com \\n\\nEDUCATION \\n\\n§  IIT Kanpur, Bachelor of Science (BS) in Mathematics and Scientific Computing, 2023   \\n\\nEXPERIENCE', 'EXPERIENCE \\n\\nFreelance AI Engineer                                                                                       Outlier.ai Oct 2024 – Present \\n\\n§  RAG Chatbot \\n\\n-  Developed a RAG based chatbot using GPT-4o-mini LLM over rich PDF documents to scale existing chatbot \\n-  Devised an automated end-to-end text chunking and indexing pipeline with pdfminer to extract text and \\n\\nGPT-4o to analyze content from images converted from PDF pages', 'GPT-4o to analyze content from images converted from PDF pages  \\n\\n-  Used hybrid search (BM25 and KNN) in Elasticsearch to retrieve relevant context for the answer generation \\n-  Evaluated the experiments using Factual Correctness metrics (G-Eval Correctness, Precision, Recall) and \\n\\nAnswer Relevancy, achieved an overall avg correctness of 79% (abs 3% better than existing chatbot) \\n\\n§  Math LLM Evaluation Automation', '§  Math LLM Evaluation Automation \\n\\n-  Developed and automation pipelines the testing of over 500 high-quality prompts for AI models, focusing on \\nmath-related queries (geometry, algebra, and statistics), achieving 95% alignment with quality benchmarks \\n-  Evaluated LLM over custom Accuracy, Consistency and Quality metrics in handling math-related queries \\n-  The structured evaluation pipeline helped in improving assessment efficiency and reliability by 20% \\n\\nPROJECTS', 'PROJECTS \\n\\n§  Credit Card Fraud Detection \\n\\n-  Executed comprehensive data pre-processing including Exploratory Data Analysis (EDA), Feature \\n\\nEngineering and Anomaly Detection to prepare data for training using Pandas \\n\\n-  Explored models like Logistic Regression, Decision Tree, Random Forest in Scikit-learn for training \\n-  Used F1-score to measure performance of the model achieved with best score of 82% on test data \\n\\n§  NFT Sales Analytics SQL Reporting', '§  NFT Sales Analytics SQL Reporting \\n\\n-  Extracted valuable insights by analyzing Non-Fungible Token (NFT) sales data using SQL queries to \\n\\nuncover trends & patterns for investors, collectors interested in NFTs', 'uncover trends & patterns for investors, collectors interested in NFTs \\n\\n-  Created aggregated view of the NFT Market by grouping NFT name and calculated avg price for each group\\t\\n- \\nIdentified highest-value transactions & price trends over time; visualized price distribution using histogram \\n-  Created Temporary tables to hold daily average price for each transaction and to filter out certain transactions \\n\\n§  Superstore Sale Performance Tableau Dashboard', '§  Superstore Sale Performance Tableau Dashboard \\n\\n-  Developed comprehensive dashboards in Tableau showing sales performance metrics for a retail superstore  \\n-  Utilized Calculated Fields, Parameters, and Filters for in-depth sales analysis and reporting \\n-  Created Pie charts, Bubble charts, Bar charts, and Histograms to visualize & analyze data distribution \\n-  Conducted correlation analysis and visualized results using Heatmap to identify key patterns and insights \\n\\nLANGUAGES AND SKILLS', 'LANGUAGES AND SKILLS \\n\\n§  Programming Languages: Python, C, R, SQL, Matlab \\n§  Tools and frameworks: Pandas, Keras, Tensorflow, Scikit-learn, LLM, GenAI, Huggingface, MS-Excel, Power BI, \\n\\nTableau, OpenAI, Elasticsearch \\n\\nCERTIFICATIONS   \\n\\n§  Machine Learning Specialization from Coursera \\n§  Data Science Bootcamp from UpGrad', '§  Machine Learning Specialization from Coursera \\n§  Data Science Bootcamp from UpGrad \\n\\n \\n                                                                                                                                                                \\n                                                                                                                               \\n \\n \\n \\n\\x0c\\n\\nAssignment :', 'Assignment :  \\n\\nQuestion : Consider you are working with an online grocery delivery business \\nand you want to know the average time from 1st order placed to next order \\nplaced until 10th order placed.  \\n\\nWrite a SQL query based on the below two tables.  \\n\\nUsers Table  \\nId \\n24280 \\n24603 \\n24812 \\n25039 \\n25040 \\n25851 \\n25953 \\n\\nOrders Table  \\nId \\n67507 \\n67618 \\n68660 \\n68750 \\n69645 \\n70264 \\n70390', 'Orders Table  \\nId \\n67507 \\n67618 \\n68660 \\n68750 \\n69645 \\n70264 \\n70390 \\n\\nUser Name  \\nKayla Evans \\nNichole Robinson \\nAmanda Luedtke \\nCassandra Nelson \\nDeena Hougard \\nJohn Horihan \\nKatie Cvelbar \\n\\nCreatedAt  \\nMarch 6, 2023, 11:42 PM \\nJune 21, 2023, 11:04 AM \\nMarch 7, 2024, 2:01 PM \\nMarch 17, 2023, 8:41 PM \\nMarch 17, 2023, 8:45 PM \\nApril 2, 2023, 5:49 PM \\nApril 3, 2023, 7:04 AM \\n\\nBuyerId \\n24280 \\n25039 \\n24603 \\n24280 \\n25851 \\n24603 \\n25953', 'BuyerId \\n24280 \\n25039 \\n24603 \\n24280 \\n25851 \\n24603 \\n25953 \\n\\nCreatedAt \\nMarch 8, 2023, 11:42 PM \\nMarch 29, 2023, 01:08 PM \\nJuly 05, 2023, 09:09 AM \\nApril 2, 2023, 5:55 PM \\nApril 7, 2023, 4:01 PM \\nJuly 08, 2023, 12:45 PM \\nApril 10, 2023, 10:28 AM \\n\\nCancelled \\nFALSE \\nFALSE \\nTRUE \\nFALSE \\nTRUE \\nFALSE \\nFALSE']\n"
     ]
    }
   ],
   "source": [
    "chunks = splitter.split_text(\"\\n\\n\".join(documents))\n",
    "# Combines all extracted texts into one string and splits it.\n",
    "print(chunks)"
   ]
  },
  {
   "cell_type": "code",
   "execution_count": 74,
   "id": "3f50af58-caae-4371-9bb9-bc2acb76252a",
   "metadata": {},
   "outputs": [
    {
     "data": {
      "text/plain": [
       "list"
      ]
     },
     "execution_count": 74,
     "metadata": {},
     "output_type": "execute_result"
    }
   ],
   "source": [
    "type(chunks)"
   ]
  },
  {
   "cell_type": "code",
   "execution_count": 75,
   "id": "d1b352b7-7d2e-49e2-834e-754e3cc63d7d",
   "metadata": {},
   "outputs": [
    {
     "data": {
      "text/plain": [
       "str"
      ]
     },
     "execution_count": 75,
     "metadata": {},
     "output_type": "execute_result"
    }
   ],
   "source": [
    "type(chunks[0])"
   ]
  },
  {
   "cell_type": "code",
   "execution_count": 76,
   "id": "ad9bb43a-2d75-4f0e-8f11-5a4f4c2e586b",
   "metadata": {},
   "outputs": [
    {
     "data": {
      "text/plain": [
       "20"
      ]
     },
     "execution_count": 76,
     "metadata": {},
     "output_type": "execute_result"
    }
   ],
   "source": [
    "len(chunks)"
   ]
  },
  {
   "cell_type": "code",
   "execution_count": 53,
   "id": "6d774009-0fdc-4db3-a05d-4c542de40198",
   "metadata": {},
   "outputs": [],
   "source": [
    "persist_path = 'faiss_index'\n",
    "# defines the directory name where the FAISS index will be stored on disk"
   ]
  },
  {
   "cell_type": "code",
   "execution_count": 10,
   "id": "8281cd12-e752-4e02-8509-63e3512ed45c",
   "metadata": {},
   "outputs": [
    {
     "name": "stderr",
     "output_type": "stream",
     "text": [
      "/var/folders/kd/1rh3tcw579x8kh9plm897wfh0000gp/T/ipykernel_43778/621455296.py:1: LangChainDeprecationWarning: The class `OpenAIEmbeddings` was deprecated in LangChain 0.0.9 and will be removed in 1.0. An updated version of the class exists in the :class:`~langchain-openai package and should be used instead. To use it run `pip install -U :class:`~langchain-openai` and import as `from :class:`~langchain_openai import OpenAIEmbeddings``.\n",
      "  embeddings = OpenAIEmbeddings(model='text-embedding-3-small')\n"
     ]
    }
   ],
   "source": [
    "embedding_model = OpenAIEmbeddings(model='text-embedding-3-small')\n",
    "# Converts text chunks into vector representations.\n"
   ]
  },
  {
   "cell_type": "code",
   "execution_count": 57,
   "id": "858bd596-ab7b-44e2-adb7-595424766dbf",
   "metadata": {},
   "outputs": [
    {
     "name": "stdout",
     "output_type": "stream",
     "text": [
      "Loading existing FAISS index...\n"
     ]
    }
   ],
   "source": [
    "# if os.path.exists(persist_path):\n",
    "#     print(\"Loading existing FAISS index...\")\n",
    "#     os.system(f\"rm -rf {persist_path}\")\n",
    "\n",
    "vectorstore = FAISS.from_texts(chunks, embedding_model)\n",
    "vectorstore.save_local(persist_path) \n",
    "\n",
    "#text chunks into embedding using embedding_model and then storing embedding into FAISS VectorDtabase"
   ]
  },
  {
   "cell_type": "code",
   "execution_count": 84,
   "id": "2b470b47-dc41-4a55-b3a4-c42e9ded7b66",
   "metadata": {},
   "outputs": [],
   "source": [
    "query = \"What is mamta's email id\"\n",
    "retriever = vectorstore.as_retriever(search_kwargs={'k':3})\n",
    "# Retrieves the top 3 most similar text chunks to the query.\n",
    "relevant_docs = retriever.get_relevant_documents(query)\n",
    "# Retrieves relevant chunks.\n",
    "\n"
   ]
  },
  {
   "cell_type": "code",
   "execution_count": 106,
   "id": "7a171519-4780-4ea1-8e08-cfcf57207d27",
   "metadata": {},
   "outputs": [
    {
     "data": {
      "text/plain": [
       "'MAMTA UDAI \\n\\n+91-9782991795  \\nmamtaudai98@gmail.com \\n\\nEDUCATION \\n\\n▪  IIT Kanpur, Bachelor of Science (BS) in Mathematics and Scientific Computing, 2023   \\n\\nEXPERIENCE \\n\\nFreelance Math AI Trainer    \\nOutlier.ai| Oct 2024 - Present'"
      ]
     },
     "execution_count": 106,
     "metadata": {},
     "output_type": "execute_result"
    }
   ],
   "source": [
    "relevant_docs[0].page_content"
   ]
  },
  {
   "cell_type": "code",
   "execution_count": 90,
   "id": "53daf953-b768-495f-8eed-cfbf58bf0960",
   "metadata": {},
   "outputs": [],
   "source": [
    "if not relevant_docs:\n",
    "    response = \"No relevant information found. Try rephrasing your question.\"\n",
    "else:\n",
    "    context = \"\\n\\n\".join(doc.page_content for doc in relevant_docs)\n",
    "    llm = ChatOpenAI(model=\"gpt-4o-mini\")\n",
    "    prompt = (\n",
    "        f\"Using the following context, answer the question concisely:\\n\\n\"\n",
    "        f\"Context:\\n{context}\\n\\n\"\n",
    "        f\"Question: {query}\\n\\n\"\n",
    "        f\"Answer:\"\n",
    "    )\n",
    "    response = llm.invoke(prompt).content\n",
    "    final_response = ''\n",
    "    if response == None or response == '':\n",
    "        final_response = \"No response generated.\"\n",
    "    else:    \n",
    "        final_response = response"
   ]
  },
  {
   "cell_type": "code",
   "execution_count": 107,
   "id": "f5578205-e8e5-4537-9b27-10ffa0ce2095",
   "metadata": {},
   "outputs": [
    {
     "data": {
      "text/plain": [
       "str"
      ]
     },
     "execution_count": 107,
     "metadata": {},
     "output_type": "execute_result"
    }
   ],
   "source": [
    "type(context)"
   ]
  },
  {
   "cell_type": "code",
   "execution_count": 96,
   "id": "e2dc671f-079c-4ff3-95ec-2abec48c9f9e",
   "metadata": {},
   "outputs": [
    {
     "name": "stdout",
     "output_type": "stream",
     "text": [
      "mamtaudai98@gmail.com\n"
     ]
    }
   ],
   "source": [
    "print(final_response)"
   ]
  },
  {
   "cell_type": "code",
   "execution_count": null,
   "id": "82c7ce3f-1b0a-475b-bd97-67f453995699",
   "metadata": {},
   "outputs": [],
   "source": []
  },
  {
   "cell_type": "code",
   "execution_count": 92,
   "id": "05719586-f65f-4679-83fa-f28903ec92e5",
   "metadata": {},
   "outputs": [
    {
     "name": "stdout",
     "output_type": "stream",
     "text": [
      "Using the following context, answer the question concisely:\n",
      "\n",
      "Context:\n",
      "MAMTA UDAI \n",
      "\n",
      "+91-9782991795  \n",
      "mamtaudai98@gmail.com \n",
      "\n",
      "EDUCATION \n",
      "\n",
      "▪  IIT Kanpur, Bachelor of Science (BS) in Mathematics and Scientific Computing, 2023   \n",
      "\n",
      "EXPERIENCE \n",
      "\n",
      "Freelance Math AI Trainer    \n",
      "Outlier.ai| Oct 2024 - Present\n",
      "\n",
      "LANGUAGES AND SKILLS \n",
      "\n",
      "▪  C, Python, MATLAB, MySQL, NoSQL \n",
      "▪  MS-Excel, Power BI, Tableau \n",
      "\n",
      "CERTIFICATIONS   \n",
      "\n",
      "▪  Machine Learning Specialization from Coursera \n",
      "▪  Data Science Bootcamp from UpGrad \n",
      "\n",
      " \n",
      " \n",
      " \n",
      " \n",
      " \n",
      " \n",
      "\f",
      "\n",
      "\n",
      "MAMTA UDAI \n",
      "\n",
      "+91-9782991795  \n",
      "mamtaudai98@gmail.com \n",
      "\n",
      "EDUCATION \n",
      "\n",
      "§  IIT Kanpur, Bachelor of Science (BS) in Mathematics and Scientific Computing, 2023   \n",
      "\n",
      "EXPERIENCE\n",
      "\n",
      "LANGUAGES AND SKILLS \n",
      "\n",
      "§  Programming Languages: Python, C, R, SQL, Matlab \n",
      "§  Tools and frameworks: Pandas, Keras, Tensorflow, Scikit-learn, LLM, GenAI, Huggingface, MS-Excel, Power BI, \n",
      "\n",
      "Tableau, OpenAI, Elasticsearch \n",
      "\n",
      "CERTIFICATIONS   \n",
      "\n",
      "§  Machine Learning Specialization from Coursera \n",
      "§  Data Science Bootcamp from UpGrad\n",
      "\n",
      "Question: What is mamta's email id\n",
      "\n",
      "Answer:\n"
     ]
    }
   ],
   "source": [
    "print(prompt)"
   ]
  },
  {
   "cell_type": "code",
   "execution_count": null,
   "id": "b0af4e5a-d385-4aa6-a2f9-4d61c2c26a72",
   "metadata": {},
   "outputs": [],
   "source": []
  }
 ],
 "metadata": {
  "kernelspec": {
   "display_name": "py310",
   "language": "python",
   "name": "py310"
  },
  "language_info": {
   "codemirror_mode": {
    "name": "ipython",
    "version": 3
   },
   "file_extension": ".py",
   "mimetype": "text/x-python",
   "name": "python",
   "nbconvert_exporter": "python",
   "pygments_lexer": "ipython3",
   "version": "3.10.16"
  }
 },
 "nbformat": 4,
 "nbformat_minor": 5
}
